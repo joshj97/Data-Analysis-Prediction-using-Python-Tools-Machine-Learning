{
 "cells": [
  {
   "cell_type": "code",
   "execution_count": 57,
   "metadata": {},
   "outputs": [],
   "source": [
    "import os\n",
    "import sys\n",
    "#from stocker import Stocker\n",
    "import io\n",
    "import time\n",
    "import pandas as pd\n",
    "import numpy as np\n",
    "import matplotlib.pyplot as plt\n",
    "import pandas_datareader.data as web\n",
    "from sklearn import preprocessing\n",
    "from sklearn.linear_model import LinearRegression\n",
    "from sklearn.model_selection import train_test_split\n",
    "from sklearn.pipeline import make_pipeline\n",
    "import datetime\n",
    "from matplotlib import style\n",
    "from pandas import read_csv\n",
    "from pandas.util.testing import assert_frame_equal\n",
    "import math\n",
    "from keras.models import Sequential\n",
    "from keras.layers import Dense\n",
    "from keras.layers import LSTM\n",
    "plt.style.use('fivethirtyeight')\n",
    "from sklearn.preprocessing import MinMaxScaler\n",
    "from sklearn.metrics import mean_squared_error\n",
    "%config IPCompleter.greedy=True"
   ]
  },
  {
   "cell_type": "code",
   "execution_count": 58,
   "metadata": {},
   "outputs": [
    {
     "data": {
      "text/html": [
       "<div>\n",
       "<style scoped>\n",
       "    .dataframe tbody tr th:only-of-type {\n",
       "        vertical-align: middle;\n",
       "    }\n",
       "\n",
       "    .dataframe tbody tr th {\n",
       "        vertical-align: top;\n",
       "    }\n",
       "\n",
       "    .dataframe thead th {\n",
       "        text-align: right;\n",
       "    }\n",
       "</style>\n",
       "<table border=\"1\" class=\"dataframe\">\n",
       "  <thead>\n",
       "    <tr style=\"text-align: right;\">\n",
       "      <th></th>\n",
       "      <th>High</th>\n",
       "      <th>Low</th>\n",
       "      <th>Open</th>\n",
       "      <th>Close</th>\n",
       "      <th>Volume</th>\n",
       "      <th>Adj Close</th>\n",
       "    </tr>\n",
       "    <tr>\n",
       "      <th>Date</th>\n",
       "      <th></th>\n",
       "      <th></th>\n",
       "      <th></th>\n",
       "      <th></th>\n",
       "      <th></th>\n",
       "      <th></th>\n",
       "    </tr>\n",
       "  </thead>\n",
       "  <tbody>\n",
       "    <tr>\n",
       "      <th>2019-03-11</th>\n",
       "      <td>1672.290039</td>\n",
       "      <td>1626.010010</td>\n",
       "      <td>1626.119995</td>\n",
       "      <td>1670.619995</td>\n",
       "      <td>3876400</td>\n",
       "      <td>1670.619995</td>\n",
       "    </tr>\n",
       "    <tr>\n",
       "      <th>2019-03-12</th>\n",
       "      <td>1684.270020</td>\n",
       "      <td>1660.979980</td>\n",
       "      <td>1669.000000</td>\n",
       "      <td>1673.099976</td>\n",
       "      <td>3614500</td>\n",
       "      <td>1673.099976</td>\n",
       "    </tr>\n",
       "    <tr>\n",
       "      <th>2019-03-13</th>\n",
       "      <td>1700.000000</td>\n",
       "      <td>1679.349976</td>\n",
       "      <td>1683.000000</td>\n",
       "      <td>1690.810059</td>\n",
       "      <td>3552000</td>\n",
       "      <td>1690.810059</td>\n",
       "    </tr>\n",
       "    <tr>\n",
       "      <th>2019-03-14</th>\n",
       "      <td>1702.000000</td>\n",
       "      <td>1684.339966</td>\n",
       "      <td>1691.199951</td>\n",
       "      <td>1686.219971</td>\n",
       "      <td>2946600</td>\n",
       "      <td>1686.219971</td>\n",
       "    </tr>\n",
       "    <tr>\n",
       "      <th>2019-03-15</th>\n",
       "      <td>1718.800049</td>\n",
       "      <td>1693.130005</td>\n",
       "      <td>1703.000000</td>\n",
       "      <td>1712.359985</td>\n",
       "      <td>7550900</td>\n",
       "      <td>1712.359985</td>\n",
       "    </tr>\n",
       "    <tr>\n",
       "      <th>...</th>\n",
       "      <td>...</td>\n",
       "      <td>...</td>\n",
       "      <td>...</td>\n",
       "      <td>...</td>\n",
       "      <td>...</td>\n",
       "      <td>...</td>\n",
       "    </tr>\n",
       "    <tr>\n",
       "      <th>2020-03-03</th>\n",
       "      <td>1996.329956</td>\n",
       "      <td>1888.089966</td>\n",
       "      <td>1975.369995</td>\n",
       "      <td>1908.989990</td>\n",
       "      <td>7534500</td>\n",
       "      <td>1908.989990</td>\n",
       "    </tr>\n",
       "    <tr>\n",
       "      <th>2020-03-04</th>\n",
       "      <td>1978.000000</td>\n",
       "      <td>1922.000000</td>\n",
       "      <td>1946.569946</td>\n",
       "      <td>1975.829956</td>\n",
       "      <td>4772900</td>\n",
       "      <td>1975.829956</td>\n",
       "    </tr>\n",
       "    <tr>\n",
       "      <th>2020-03-05</th>\n",
       "      <td>1960.719971</td>\n",
       "      <td>1910.000000</td>\n",
       "      <td>1933.000000</td>\n",
       "      <td>1924.030029</td>\n",
       "      <td>4748200</td>\n",
       "      <td>1924.030029</td>\n",
       "    </tr>\n",
       "    <tr>\n",
       "      <th>2020-03-06</th>\n",
       "      <td>1910.869995</td>\n",
       "      <td>1869.500000</td>\n",
       "      <td>1875.000000</td>\n",
       "      <td>1901.089966</td>\n",
       "      <td>5273600</td>\n",
       "      <td>1901.089966</td>\n",
       "    </tr>\n",
       "    <tr>\n",
       "      <th>2020-03-09</th>\n",
       "      <td>1862.770020</td>\n",
       "      <td>1761.290039</td>\n",
       "      <td>1773.859985</td>\n",
       "      <td>1800.609985</td>\n",
       "      <td>7813200</td>\n",
       "      <td>1800.609985</td>\n",
       "    </tr>\n",
       "  </tbody>\n",
       "</table>\n",
       "<p>252 rows × 6 columns</p>\n",
       "</div>"
      ],
      "text/plain": [
       "                   High          Low         Open        Close   Volume  \\\n",
       "Date                                                                      \n",
       "2019-03-11  1672.290039  1626.010010  1626.119995  1670.619995  3876400   \n",
       "2019-03-12  1684.270020  1660.979980  1669.000000  1673.099976  3614500   \n",
       "2019-03-13  1700.000000  1679.349976  1683.000000  1690.810059  3552000   \n",
       "2019-03-14  1702.000000  1684.339966  1691.199951  1686.219971  2946600   \n",
       "2019-03-15  1718.800049  1693.130005  1703.000000  1712.359985  7550900   \n",
       "...                 ...          ...          ...          ...      ...   \n",
       "2020-03-03  1996.329956  1888.089966  1975.369995  1908.989990  7534500   \n",
       "2020-03-04  1978.000000  1922.000000  1946.569946  1975.829956  4772900   \n",
       "2020-03-05  1960.719971  1910.000000  1933.000000  1924.030029  4748200   \n",
       "2020-03-06  1910.869995  1869.500000  1875.000000  1901.089966  5273600   \n",
       "2020-03-09  1862.770020  1761.290039  1773.859985  1800.609985  7813200   \n",
       "\n",
       "              Adj Close  \n",
       "Date                     \n",
       "2019-03-11  1670.619995  \n",
       "2019-03-12  1673.099976  \n",
       "2019-03-13  1690.810059  \n",
       "2019-03-14  1686.219971  \n",
       "2019-03-15  1712.359985  \n",
       "...                 ...  \n",
       "2020-03-03  1908.989990  \n",
       "2020-03-04  1975.829956  \n",
       "2020-03-05  1924.030029  \n",
       "2020-03-06  1901.089966  \n",
       "2020-03-09  1800.609985  \n",
       "\n",
       "[252 rows x 6 columns]"
      ]
     },
     "execution_count": 58,
     "metadata": {},
     "output_type": "execute_result"
    }
   ],
   "source": [
    "#By using DataReader we will get the stock quote from Yahoo Finance\n",
    "df = web.DataReader('AMZN', data_source = 'yahoo', start = '2019-03-09', end = '2020-03-09')\n",
    "#Show the data\n",
    "df"
   ]
  },
  {
   "cell_type": "code",
   "execution_count": 59,
   "metadata": {},
   "outputs": [
    {
     "data": {
      "text/plain": [
       "(252, 6)"
      ]
     },
     "execution_count": 59,
     "metadata": {},
     "output_type": "execute_result"
    }
   ],
   "source": [
    "#Get the number of rows and columns in the data set\n",
    "df.shape"
   ]
  },
  {
   "cell_type": "code",
   "execution_count": 60,
   "metadata": {},
   "outputs": [
    {
     "data": {
      "image/png": "[encoded data removed]",
      "text/plain": [
       "<Figure size 1152x576 with 1 Axes>"
      ]
     },
     "metadata": {},
     "output_type": "display_data"
    }
   ],
   "source": [
    "#Visualize the closing price history \n",
    "plt.figure(figsize=(16,8))\n",
    "plt.title('Closing Price History')\n",
    "plt.plot(df['Close'])\n",
    "plt.xlabel('Date', fontsize=18)\n",
    "plt.ylabel('Closing Price for Regeneron Inc USD ($)', fontsize=18)\n",
    "plt.show()"
   ]
  },
  {
   "cell_type": "code",
   "execution_count": 61,
   "metadata": {},
   "outputs": [
    {
     "data": {
      "text/plain": [
       "202"
      ]
     },
     "execution_count": 61,
     "metadata": {},
     "output_type": "execute_result"
    }
   ],
   "source": [
    "#Create a new dataframe with only the \"Close\" column\n",
    "data = df.filter(['Close'])\n",
    "#Convert the dataframe to a numpy array\n",
    "dataset = data.values\n",
    "#Get the number of rows to train the model on \n",
    "training_data_len = math.ceil( len(dataset) * .8)\n",
    "\n",
    "training_data_len"
   ]
  },
  {
   "cell_type": "code",
   "execution_count": 62,
   "metadata": {},
   "outputs": [
    {
     "data": {
      "text/plain": [
       "array([[0.        ],\n",
       "       [0.00496393],\n",
       "       [0.04041246],\n",
       "       [0.03122493],\n",
       "       [0.08354682],\n",
       "       [0.14317461],\n",
       "       [0.18260605],\n",
       "       [0.25350286],\n",
       "       [0.29751806],\n",
       "       [0.18845082],\n",
       "       [0.207446  ],\n",
       "       [0.22646121],\n",
       "       [0.19031217],\n",
       "       [0.20576472],\n",
       "       [0.22043637],\n",
       "       [0.2873698 ],\n",
       "       [0.28694954],\n",
       "       [0.30040025],\n",
       "       [0.29671737],\n",
       "       [0.33358695],\n",
       "       [0.35876701],\n",
       "       [0.33070452],\n",
       "       [0.3537029 ],\n",
       "       [0.34717766],\n",
       "       [0.34515627],\n",
       "       [0.34877904],\n",
       "       [0.38514823],\n",
       "       [0.38871089],\n",
       "       [0.38244587],\n",
       "       [0.43372713],\n",
       "       [0.50670544],\n",
       "       [0.46263014],\n",
       "       [0.46363094],\n",
       "       [0.56046842],\n",
       "       [0.53604898],\n",
       "       [0.51220984],\n",
       "       [0.48218582],\n",
       "       [0.46076854],\n",
       "       [0.58414728],\n",
       "       [0.56030838],\n",
       "       [0.50116096],\n",
       "       [0.49469583],\n",
       "       [0.45886712],\n",
       "       [0.43907125],\n",
       "       [0.30436362],\n",
       "       [0.33927143],\n",
       "       [0.40138118],\n",
       "       [0.47427935],\n",
       "       [0.39707769],\n",
       "       [0.37700157],\n",
       "       [0.37409935],\n",
       "       [0.37842287],\n",
       "       [0.28995195],\n",
       "       [0.30556453],\n",
       "       [0.33188564],\n",
       "       [0.29737781],\n",
       "       [0.29163322],\n",
       "       [0.20906717],\n",
       "       [0.04417523],\n",
       "       [0.11797451],\n",
       "       [0.13586871],\n",
       "       [0.16761408],\n",
       "       [0.26703371],\n",
       "       [0.3803243 ],\n",
       "       [0.38646911],\n",
       "       [0.36969568],\n",
       "       [0.39967987],\n",
       "       [0.39841885],\n",
       "       [0.43116502],\n",
       "       [0.46186952],\n",
       "       [0.47672149],\n",
       "       [0.49553635],\n",
       "       [0.48174553],\n",
       "       [0.48694964],\n",
       "       [0.41563258],\n",
       "       [0.45478377],\n",
       "       [0.46769425],\n",
       "       [0.44637714],\n",
       "       [0.50354275],\n",
       "       [0.52780239],\n",
       "       [0.53718979],\n",
       "       [0.54501612],\n",
       "       [0.56385101],\n",
       "       [0.63586883],\n",
       "       [0.69413542],\n",
       "       [0.66142908],\n",
       "       [0.68130509],\n",
       "       [0.70130107],\n",
       "       [0.67910337],\n",
       "       [0.64333477],\n",
       "       [0.61505213],\n",
       "       [0.58827069],\n",
       "       [0.63052447],\n",
       "       [0.64825863],\n",
       "       [0.66090889],\n",
       "       [0.60688544],\n",
       "       [0.54529637],\n",
       "       [0.48404717],\n",
       "       [0.45618504],\n",
       "       [0.39263419],\n",
       "       [0.36969568],\n",
       "       [0.30548439],\n",
       "       [0.18917137],\n",
       "       [0.23460762],\n",
       "       [0.24575668],\n",
       "       [0.32479989],\n",
       "       [0.27413925],\n",
       "       [0.22878314],\n",
       "       [0.30768611],\n",
       "       [0.1848278 ],\n",
       "       [0.21116895],\n",
       "       [0.24409519],\n",
       "       [0.291233  ],\n",
       "       [0.26172942],\n",
       "       [0.30608497],\n",
       "       [0.26829473],\n",
       "       [0.15812651],\n",
       "       [0.19665734],\n",
       "       [0.18256598],\n",
       "       [0.18740995],\n",
       "       [0.23174547],\n",
       "       [0.21150931],\n",
       "       [0.23863086],\n",
       "       [0.26020818],\n",
       "       [0.34047235],\n",
       "       [0.32604088],\n",
       "       [0.32171735],\n",
       "       [0.3001002 ],\n",
       "       [0.30498399],\n",
       "       [0.34613703],\n",
       "       [0.33771013],\n",
       "       [0.27465968],\n",
       "       [0.3041034 ],\n",
       "       [0.29391508],\n",
       "       [0.30200163],\n",
       "       [0.24727791],\n",
       "       [0.22954375],\n",
       "       [0.14209366],\n",
       "       [0.19557639],\n",
       "       [0.13855079],\n",
       "       [0.10974772],\n",
       "       [0.13068463],\n",
       "       [0.1301642 ],\n",
       "       [0.08528821],\n",
       "       [0.10768625],\n",
       "       [0.1381706 ],\n",
       "       [0.12417943],\n",
       "       [0.0698359 ],\n",
       "       [0.10282225],\n",
       "       [0.09935952],\n",
       "       [0.12269826],\n",
       "       [0.1317255 ],\n",
       "       [0.19367497],\n",
       "       [0.21379116],\n",
       "       [0.23390711],\n",
       "       [0.17391917],\n",
       "       [0.2302643 ],\n",
       "       [0.19037228],\n",
       "       [0.1832467 ],\n",
       "       [0.22049648],\n",
       "       [0.18156518],\n",
       "       [0.2130904 ],\n",
       "       [0.1843274 ],\n",
       "       [0.21891513],\n",
       "       [0.21224989],\n",
       "       [0.24183337],\n",
       "       [0.26829473],\n",
       "       [0.26238986],\n",
       "       [0.25050046],\n",
       "       [0.2353482 ],\n",
       "       [0.23070459],\n",
       "       [0.20222185],\n",
       "       [0.21493197],\n",
       "       [0.16511208],\n",
       "       [0.16809444],\n",
       "       [0.13785028],\n",
       "       [0.16395124],\n",
       "       [0.16447167],\n",
       "       [0.14994003],\n",
       "       [0.12828256],\n",
       "       [0.15032021],\n",
       "       [0.20660524],\n",
       "       [0.25284218],\n",
       "       [0.29601686],\n",
       "       [0.26056858],\n",
       "       [0.22213768],\n",
       "       [0.19883901],\n",
       "       [0.18028413],\n",
       "       [0.13983184],\n",
       "       [0.16208964],\n",
       "       [0.15790636],\n",
       "       [0.13728977],\n",
       "       [0.15632502],\n",
       "       [0.17956358],\n",
       "       [0.18078453],\n",
       "       [0.19733781],\n",
       "       [0.24027231],\n",
       "       [0.22700168],\n",
       "       [0.24351489],\n",
       "       [0.23194558],\n",
       "       [0.24495599],\n",
       "       [0.23736984],\n",
       "       [0.39661736],\n",
       "       [0.39867907],\n",
       "       [0.35282231],\n",
       "       [0.35472374],\n",
       "       [0.45514417],\n",
       "       [0.40902719],\n",
       "       [0.46489196],\n",
       "       [0.47285829],\n",
       "       [0.44305442],\n",
       "       [0.46122911],\n",
       "       [0.42542044],\n",
       "       [0.4417135 ],\n",
       "       [0.39795828],\n",
       "       [0.38310655],\n",
       "       [0.41497189],\n",
       "       [0.38851078],\n",
       "       [0.44311452],\n",
       "       [0.43402717],\n",
       "       [0.42826255],\n",
       "       [0.38234593],\n",
       "       [0.31569251],\n",
       "       [0.36555247],\n",
       "       [0.37506008],\n",
       "       [0.40044049],\n",
       "       [0.67674138],\n",
       "       [0.6676941 ],\n",
       "       [0.75870686],\n",
       "       [0.73909131],\n",
       "       [0.75982787],\n",
       "       [0.81797449],\n",
       "       [0.92732174],\n",
       "       [0.96112906],\n",
       "       [0.97954369],\n",
       "       [0.95926771],\n",
       "       [0.92924368],\n",
       "       [0.9708766 ],\n",
       "       [1.        ],\n",
       "       [0.96573284],\n",
       "       [0.8513811 ],\n",
       "       [0.67788243],\n",
       "       [0.6047238 ],\n",
       "       [0.61843472],\n",
       "       [0.42770229],\n",
       "       [0.42660131],\n",
       "       [0.56711363],\n",
       "       [0.47712171],\n",
       "       [0.61090868],\n",
       "       [0.50722587],\n",
       "       [0.46130901],\n",
       "       [0.26018814]])"
      ]
     },
     "execution_count": 62,
     "metadata": {},
     "output_type": "execute_result"
    }
   ],
   "source": [
    "#Scale the data\n",
    "scaler = MinMaxScaler(feature_range=(0,1))\n",
    "scaled_data = scaler.fit_transform(dataset)\n",
    "\n",
    "scaled_data"
   ]
  },
  {
   "cell_type": "code",
   "execution_count": 63,
   "metadata": {},
   "outputs": [
    {
     "name": "stdout",
     "output_type": "stream",
     "text": [
      "[array([0.        , 0.00496393, 0.04041246, 0.03122493, 0.08354682,\n",
      "       0.14317461, 0.18260605, 0.25350286, 0.29751806, 0.18845082,\n",
      "       0.207446  , 0.22646121, 0.19031217, 0.20576472, 0.22043637,\n",
      "       0.2873698 , 0.28694954, 0.30040025, 0.29671737, 0.33358695,\n",
      "       0.35876701, 0.33070452, 0.3537029 , 0.34717766, 0.34515627,\n",
      "       0.34877904, 0.38514823, 0.38871089, 0.38244587, 0.43372713,\n",
      "       0.50670544, 0.46263014, 0.46363094, 0.56046842, 0.53604898,\n",
      "       0.51220984, 0.48218582, 0.46076854, 0.58414728, 0.56030838,\n",
      "       0.50116096, 0.49469583, 0.45886712, 0.43907125, 0.30436362,\n",
      "       0.33927143, 0.40138118, 0.47427935, 0.39707769, 0.37700157,\n",
      "       0.37409935, 0.37842287, 0.28995195, 0.30556453, 0.33188564,\n",
      "       0.29737781, 0.29163322, 0.20906717, 0.04417523, 0.11797451])]\n",
      "[0.1358687113689343]\n",
      "\n"
     ]
    }
   ],
   "source": [
    "#Create the training data set\n",
    "#Create the scaled training data set\n",
    "train_data = scaled_data[0:training_data_len , :]\n",
    "#Split the data into x train and y train data sets\n",
    "x_train = []\n",
    "y_train = []\n",
    "\n",
    "for i in range(60, len(train_data)):\n",
    "    x_train.append(train_data[i-60:i , 0])\n",
    "    y_train.append(train_data[i, 0])\n",
    "    if i<=60: \n",
    "        print(x_train)\n",
    "        print(y_train)\n",
    "        print()"
   ]
  },
  {
   "cell_type": "code",
   "execution_count": 64,
   "metadata": {},
   "outputs": [],
   "source": [
    "#Convert the x_train and y_train to numpy arrays\n",
    "x_train, y_train = np.array(x_train), np.array(y_train)"
   ]
  },
  {
   "cell_type": "code",
   "execution_count": 65,
   "metadata": {},
   "outputs": [
    {
     "data": {
      "text/plain": [
       "(142, 60, 1)"
      ]
     },
     "execution_count": 65,
     "metadata": {},
     "output_type": "execute_result"
    }
   ],
   "source": [
    "#Reshape the data\n",
    "x_train = np.reshape(x_train, (x_train.shape[0], x_train.shape[1], 1))\n",
    "x_train.shape"
   ]
  },
  {
   "cell_type": "code",
   "execution_count": 66,
   "metadata": {},
   "outputs": [],
   "source": [
    "#Convert the x_train and y_train to numpy arrays\n",
    "x_train, y_train = np.array(x_train), np.array(y_train)"
   ]
  },
  {
   "cell_type": "code",
   "execution_count": 67,
   "metadata": {},
   "outputs": [
    {
     "data": {
      "text/plain": [
       "(142, 60, 1)"
      ]
     },
     "execution_count": 67,
     "metadata": {},
     "output_type": "execute_result"
    }
   ],
   "source": [
    "#Reshape the data\n",
    "x_train = np.reshape(x_train, (x_train.shape[0], x_train.shape[1], 1))\n",
    "x_train.shape"
   ]
  },
  {
   "cell_type": "code",
   "execution_count": 68,
   "metadata": {},
   "outputs": [],
   "source": [
    "#Build the LSTM Model\n",
    "model = Sequential()\n",
    "model.add(LSTM(50, return_sequences=True, input_shape=(x_train.shape[1], 1)))\n",
    "model.add(LSTM(50, return_sequences=False))\n",
    "model.add(Dense(25))\n",
    "model.add(Dense(1))"
   ]
  },
  {
   "cell_type": "code",
   "execution_count": 69,
   "metadata": {},
   "outputs": [],
   "source": [
    "#Compile the model\n",
    "model.compile(optimizer = 'adam', loss = 'mean_squared_error')"
   ]
  },
  {
   "cell_type": "code",
   "execution_count": 70,
   "metadata": {},
   "outputs": [
    {
     "name": "stdout",
     "output_type": "stream",
     "text": [
      "Epoch 1/1\n",
      "142/142 [==============================] - 15s 104ms/step - loss: 0.0149\n"
     ]
    },
    {
     "data": {
      "text/plain": [
       "<keras.callbacks.callbacks.History at 0x1f15e31b088>"
      ]
     },
     "execution_count": 70,
     "metadata": {},
     "output_type": "execute_result"
    }
   ],
   "source": [
    "#Train the model\n",
    "model.fit(x_train,y_train, batch_size=1, epochs=1)"
   ]
  },
  {
   "cell_type": "code",
   "execution_count": 71,
   "metadata": {},
   "outputs": [],
   "source": [
    "#Create the testing data set\n",
    "#Create a new array containing scaled vals from index 1543 to 2020\n",
    "test_data = scaled_data[training_data_len - 60: , :]\n",
    "#Create the data sets x_test and y_test\n",
    "x_test = []\n",
    "y_test = dataset[training_data_len:, :]\n",
    "for i in range(60, len(test_data)):\n",
    "    x_test.append(test_data[i-60:i, 0])"
   ]
  },
  {
   "cell_type": "code",
   "execution_count": 72,
   "metadata": {},
   "outputs": [],
   "source": [
    "#Convert the data to a numpy array\n",
    "x_test = np.array(x_test)"
   ]
  },
  {
   "cell_type": "code",
   "execution_count": 73,
   "metadata": {},
   "outputs": [],
   "source": [
    "#Reshape the data\n",
    "x_test = np.reshape(x_test, (x_test.shape[0], x_test.shape[1], 1))"
   ]
  },
  {
   "cell_type": "code",
   "execution_count": 74,
   "metadata": {},
   "outputs": [],
   "source": [
    "#Get the models predicted price values\n",
    "predictions = model.predict(x_test)\n",
    "prediction = scaler.inverse_transform(predictions)"
   ]
  },
  {
   "cell_type": "code",
   "execution_count": 75,
   "metadata": {},
   "outputs": [
    {
     "data": {
      "text/plain": [
       "1953.9940033644439"
      ]
     },
     "execution_count": 75,
     "metadata": {},
     "output_type": "execute_result"
    }
   ],
   "source": [
    "#Get the root mean squared error (RMSE)\n",
    "rmse = np.sqrt( np.mean( predictions - y_test )**2 )\n",
    "rmse"
   ]
  },
  {
   "cell_type": "code",
   "execution_count": 76,
   "metadata": {},
   "outputs": [
    {
     "name": "stderr",
     "output_type": "stream",
     "text": [
      "C:\\Users\\rony1\\anaconda3\\lib\\site-packages\\ipykernel_launcher.py:4: SettingWithCopyWarning: \n",
      "A value is trying to be set on a copy of a slice from a DataFrame.\n",
      "Try using .loc[row_indexer,col_indexer] = value instead\n",
      "\n",
      "See the caveats in the documentation: https://pandas.pydata.org/pandas-docs/stable/user_guide/indexing.html#returning-a-view-versus-a-copy\n",
      "  after removing the cwd from sys.path.\n"
     ]
    },
    {
     "data": {
      "image/png": "[encoded data removed]",
      "text/plain": [
       "<Figure size 1152x576 with 1 Axes>"
      ]
     },
     "metadata": {},
     "output_type": "display_data"
    }
   ],
   "source": [
    "#Plot the data\n",
    "train = data[:training_data_len]\n",
    "valid = data[training_data_len:]\n",
    "valid['Predictions'] = predictions\n",
    "#Visualize the data\n",
    "plt.figure(figsize=(16,8))\n",
    "plt.title('Model')\n",
    "plt.xlabel('Date', fontsize=18)\n",
    "plt.ylabel('Closing Price USD ($)', fontsize=18)\n",
    "plt.plot(train['Close'])\n",
    "plt.plot(valid[['Close', 'Predictions']])\n",
    "plt.legend(['Train', 'Val', 'Predictions'], loc='upper left')\n",
    "plt.show()"
   ]
  },
  {
   "cell_type": "code",
   "execution_count": 77,
   "metadata": {},
   "outputs": [],
   "source": [
    "Amazon_df = pdr.get_data_yahoo('AMZN',\n",
    "                        start=datetime.datetime(2019,11,29),\n",
    "                        end=datetime.datetime(2020,4,3))\n",
    "Apple_df = pdr.get_data_yahoo('AAPL',\n",
    "                        start=datetime.datetime(2019,11,29),\n",
    "                        end=datetime.datetime(2020,4,3))\n",
    "\n",
    "Google_df = pdr.get_data_yahoo('GOOG',\n",
    "                        start=datetime.datetime(2019,11,29),\n",
    "                        end=datetime.datetime(2020,4,3))\n",
    "Facebook_df = pdr.get_data_yahoo('FB',\n",
    "                        start=datetime.datetime(2019,11,29),\n",
    "                        end=datetime.datetime(2020,4,3))\n",
    "Microsoft_df = pdr.get_data_yahoo('MSFT',\n",
    "                        start=datetime.datetime(2019,11,29),\n",
    "                        end=datetime.datetime(2020,4,3))"
   ]
  },
  {
   "cell_type": "code",
   "execution_count": 78,
   "metadata": {},
   "outputs": [],
   "source": [
    "#Using Linear Regression\n",
    "\n",
    "forecast_time = int(15) # write number of predicitons that you want to make e.g 5,10,15 etc.\n",
    "#Repalce Delta_df with dataframe of your desired company whose prediciton you want to make e.g Airchina_df, Qantas_df etc.\n",
    "LR_df=Apple_df[['Open','High','Low','Close','Adj Close','Volume']].copy()  # \n",
    "#LR_df=Delta_df.iloc[:,1:].copy()\n",
    "\n",
    "#Replace High with the column that you want to predict\n",
    "LR_df['prediction'] = LR_df['High'].shift(-1)\n",
    "LR_df.dropna(inplace=True)\n",
    "X1 = np.array(LR_df.drop(['prediction'], 1))\n",
    "Y1 = np.array(LR_df['prediction'])\n",
    "X2 = preprocessing.scale(X1)\n",
    "X_prediction = X2[-forecast_time:]\n",
    "X_train, X_test, Y_train, Y_test = train_test_split(X2, Y1, test_size=1)\n",
    "clf = LinearRegression()\n",
    "clf.fit(X_train, Y_train)\n",
    "prediction = (clf.predict(X_prediction))"
   ]
  },
  {
   "cell_type": "code",
   "execution_count": 79,
   "metadata": {},
   "outputs": [
    {
     "data": {
      "image/png": "[encoded data removed]",
      "text/plain": [
       "<Figure size 432x288 with 1 Axes>"
      ]
     },
     "metadata": {},
     "output_type": "display_data"
    }
   ],
   "source": [
    "plt.title(\"Prediction\")\n",
    "plt.xlabel(\"Number of days\")\n",
    "\n",
    "#Replace * with the column that you want to predict\n",
    "plt.ylabel(\"*\");\n",
    "plt.plot(prediction)\n",
    "plt.show()"
   ]
  },
  {
   "cell_type": "code",
   "execution_count": 80,
   "metadata": {},
   "outputs": [
    {
     "data": {
      "text/html": [
       "<div>\n",
       "<style scoped>\n",
       "    .dataframe tbody tr th:only-of-type {\n",
       "        vertical-align: middle;\n",
       "    }\n",
       "\n",
       "    .dataframe tbody tr th {\n",
       "        vertical-align: top;\n",
       "    }\n",
       "\n",
       "    .dataframe thead th {\n",
       "        text-align: right;\n",
       "    }\n",
       "</style>\n",
       "<table border=\"1\" class=\"dataframe\">\n",
       "  <thead>\n",
       "    <tr style=\"text-align: right;\">\n",
       "      <th></th>\n",
       "      <th>High</th>\n",
       "      <th>Low</th>\n",
       "      <th>Open</th>\n",
       "      <th>Close</th>\n",
       "      <th>Volume</th>\n",
       "      <th>Adj Close</th>\n",
       "    </tr>\n",
       "    <tr>\n",
       "      <th>Date</th>\n",
       "      <th></th>\n",
       "      <th></th>\n",
       "      <th></th>\n",
       "      <th></th>\n",
       "      <th></th>\n",
       "      <th></th>\n",
       "    </tr>\n",
       "  </thead>\n",
       "  <tbody>\n",
       "    <tr>\n",
       "      <th>2020-04-03</th>\n",
       "      <td>245.699997</td>\n",
       "      <td>238.970001</td>\n",
       "      <td>242.800003</td>\n",
       "      <td>241.410004</td>\n",
       "      <td>32470000.0</td>\n",
       "      <td>240.75827</td>\n",
       "    </tr>\n",
       "  </tbody>\n",
       "</table>\n",
       "</div>"
      ],
      "text/plain": [
       "                  High         Low        Open       Close      Volume  \\\n",
       "Date                                                                     \n",
       "2020-04-03  245.699997  238.970001  242.800003  241.410004  32470000.0   \n",
       "\n",
       "            Adj Close  \n",
       "Date                   \n",
       "2020-04-03  240.75827  "
      ]
     },
     "execution_count": 80,
     "metadata": {},
     "output_type": "execute_result"
    }
   ],
   "source": [
    "#we need to create the dataset of x and y which is the two data set we going to take to predict the model\n",
    "#so we have to take the date and we taking the \"Close\" cloumn\n",
    "dates = []\n",
    "prices = []\n",
    "Apple_df.tail(1)"
   ]
  },
  {
   "cell_type": "code",
   "execution_count": null,
   "metadata": {},
   "outputs": [],
   "source": []
  }
 ],
 "metadata": {
  "kernelspec": {
   "display_name": "Python 3",
   "language": "python",
   "name": "python3"
  },
  "language_info": {
   "codemirror_mode": {
    "name": "ipython",
    "version": 3
   },
   "file_extension": ".py",
   "mimetype": "text/x-python",
   "name": "python",
   "nbconvert_exporter": "python",
   "pygments_lexer": "ipython3",
   "version": "3.7.6"
  }
 },
 "nbformat": 4,
 "nbformat_minor": 4
}
